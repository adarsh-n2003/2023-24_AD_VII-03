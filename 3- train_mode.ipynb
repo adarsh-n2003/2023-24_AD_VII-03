{
 "cells": [
  {
   "cell_type": "markdown",
   "metadata": {},
   "source": [
    "# Random Forest model"
   ]
  },
  {
   "cell_type": "code",
   "execution_count": 5,
   "metadata": {},
   "outputs": [
    {
     "name": "stdout",
     "output_type": "stream",
     "text": [
      "99.30124223602485% of samples were classified correctly!\n"
     ]
    }
   ],
   "source": [
    "import pickle\n",
    "import numpy as np\n",
    "from sklearn.ensemble import RandomForestClassifier\n",
    "from sklearn.model_selection import train_test_split\n",
    "from sklearn.metrics import accuracy_score\n",
    "\n",
    "# Load the data\n",
    "data_dict = pickle.load(open('./data.pickle', 'rb'))\n",
    "\n",
    "# Retrieve data and labels\n",
    "data = data_dict['data']\n",
    "labels = data_dict['labels']\n",
    "\n",
    "# Find the maximum length of any sequence in the dataset\n",
    "max_length = max(len(seq) for seq in data)\n",
    "\n",
    "# Pad all sequences to the maximum length\n",
    "padded_data = np.array([np.pad(seq, (0, max_length - len(seq)), 'constant') for seq in data])\n",
    "\n",
    "# Convert labels to a NumPy array\n",
    "labels = np.asarray(labels)\n",
    "\n",
    "# Split the data into training and testing sets\n",
    "x_train, x_test, y_train, y_test = train_test_split(padded_data, labels, test_size=0.2, shuffle=True, stratify=labels)\n",
    "\n",
    "# Initialize the RandomForestClassifier\n",
    "model = RandomForestClassifier()\n",
    "\n",
    "# Train the model\n",
    "model.fit(x_train, y_train)\n",
    "\n",
    "# Make predictions on the test set\n",
    "y_predict = model.predict(x_test)\n",
    "\n",
    "# Calculate accuracy\n",
    "score = accuracy_score(y_predict, y_test)\n",
    "\n",
    "# Output the result\n",
    "print('{}% of samples were classified correctly!'.format(score * 100))\n",
    "\n",
    "# Save the model to a file\n",
    "with open('model.p', 'wb') as f:\n",
    "    pickle.dump({'model': model}, f)\n"
   ]
  },
  {
   "cell_type": "markdown",
   "metadata": {},
   "source": [
    "# SVM model "
   ]
  },
  {
   "cell_type": "code",
   "execution_count": 4,
   "metadata": {},
   "outputs": [
    {
     "name": "stdout",
     "output_type": "stream",
     "text": [
      "96.73913043478261% of samples were classified correctly!\n"
     ]
    }
   ],
   "source": [
    "import pickle\n",
    "import numpy as np\n",
    "from sklearn.svm import SVC\n",
    "from sklearn.model_selection import train_test_split\n",
    "from sklearn.metrics import accuracy_score\n",
    "\n",
    "# Load the data\n",
    "data_dict = pickle.load(open('./data.pickle', 'rb'))\n",
    "\n",
    "# Retrieve the data and labels\n",
    "data = data_dict['data']\n",
    "labels = data_dict['labels']\n",
    "\n",
    "# Find the maximum length of any sequence in the dataset\n",
    "max_length = max(len(seq) for seq in data)\n",
    "\n",
    "# Pad all sequences to the maximum length\n",
    "padded_data = np.array([np.pad(seq, (0, max_length - len(seq)), 'constant') for seq in data])\n",
    "\n",
    "# Convert labels to a NumPy array\n",
    "labels = np.asarray(labels)\n",
    "\n",
    "# Split the data into training and testing sets\n",
    "x_train, x_test, y_train, y_test = train_test_split(padded_data, labels, test_size=0.2, shuffle=True, stratify=labels)\n",
    "\n",
    "# Initialize the SVM model with RBF kernel\n",
    "model = SVC(kernel='rbf')\n",
    "\n",
    "# Train the model\n",
    "model.fit(x_train, y_train)\n",
    "\n",
    "# Make predictions\n",
    "y_predict = model.predict(x_test)\n",
    "\n",
    "# Calculate the accuracy score\n",
    "score = accuracy_score(y_predict, y_test)\n",
    "\n",
    "# Output the accuracy\n",
    "print('{}% of samples were classified correctly!'.format(score * 100))\n",
    "\n",
    "# Save the model\n",
    "with open('model.p', 'wb') as f:\n",
    "    pickle.dump({'model': model}, f)\n"
   ]
  },
  {
   "cell_type": "markdown",
   "metadata": {},
   "source": [
    "##### After testing two models in real time for American Sign Language detection, we found that Support Vector Machine (SVM) outperformed the other model in separating similar classes, providing better accuracy and classification performance."
   ]
  }
 ],
 "metadata": {
  "kernelspec": {
   "display_name": "Python 3",
   "language": "python",
   "name": "python3"
  },
  "language_info": {
   "codemirror_mode": {
    "name": "ipython",
    "version": 3
   },
   "file_extension": ".py",
   "mimetype": "text/x-python",
   "name": "python",
   "nbconvert_exporter": "python",
   "pygments_lexer": "ipython3",
   "version": "3.11.7"
  }
 },
 "nbformat": 4,
 "nbformat_minor": 2
}
